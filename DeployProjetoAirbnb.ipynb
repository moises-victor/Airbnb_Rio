{
 "cells": [
  {
   "cell_type": "markdown",
   "id": "e7ab40a2-2a50-4560-a224-cfa8434eda6c",
   "metadata": {},
   "source": [
    "### Continuação Deploy"
   ]
  },
  {
   "cell_type": "markdown",
   "id": "a8062808-f84a-472b-bd03-c4dfc56c227c",
   "metadata": {},
   "source": [
    "Será feito um deploy para uso direto utilizando o streamlit. "
   ]
  },
  {
   "cell_type": "code",
   "execution_count": null,
   "id": "98404c9e-9588-41ae-9744-c4b1ea835c1e",
   "metadata": {},
   "outputs": [],
   "source": [
    "import pandas as pd\n",
    "import streamlit as st\n",
    "import joblib\n",
    "\n",
    "# Separando as características em numéricas, booleanas (sim ou não) e categóricas:\n",
    "\n",
    "# Numéricas (inicializando todas com 0)\n",
    "x_numericos = {'latitude': 0, 'longitude': 0, 'accommodates': 0, 'bathrooms': 0, 'bedrooms': 0, 'beds': 0, 'extra_people': 0, \n",
    "               'minimum_nights': 0, 'ano': 0, 'mes': 0, 'n_amenities': 0, 'host_listings_count': 0}\n",
    "\n",
    "# Booleanas (inicializando todas com 0 (não))\n",
    "x_tf = {'host_is_superhost': 0, 'instant_bookable': 0}\n",
    "\n",
    "# Categóricas\n",
    "x_listas = {'property_type': ['Apartment', 'Bed and breakfast', 'Condominium', 'Guest suite', 'Guesthouse', \n",
    "                              'Hostel', 'House', 'Loft', 'Outros', 'Serviced apartment'], \n",
    "            'room_type': ['Entire home/apt', 'Hotel room', 'Private room', 'Shared room'],\n",
    "           'cancellation_policy': ['flexible', 'moderate', 'strict', 'strict_14_with_grace_period']}\n",
    "\n",
    "\n",
    "dicionario = {}\n",
    "for item in x_listas:\n",
    "    # item -> a chave do dicionário\n",
    "    # x_listas[item] -> é o valor para a chave 'item'\n",
    "    for valor in x_listas[item]:\n",
    "        dicionario[f'{item}_{valor}'] = 0\n",
    "\n",
    "\n",
    "for item in x_numericos:\n",
    "    # Configurando o formato dos valores 'latitude' e 'longitude' com 5 casas decimais:\n",
    "    if item == 'latitude' or item == 'longitude':\n",
    "        valor = st.number_input(f'{item}', step=0.00001, value=0.0, format='%.5f')\n",
    "    # Configurando o formato dos valores 'extra_people' com 2 casas decimais:    \n",
    "    elif item == 'extra_people':\n",
    "        valor = st.number_input(f'{item}', step=0.01, value=0.0) # por padrão, o formato já é com duas casas decimais, por isso não precisa do 'format='%.2f''\n",
    "    # Configurando o formato do restante das categorias como sendo número inteiro:\n",
    "    else:\n",
    "        valor = st.number_input(f'{item}', step=1, value=0) # como o valor de step é 1, o format fica como inteiro por padrão\n",
    "    # preenchendo o dicionário x_numericos com os valores inseridos:\n",
    "    x_numericos[item] = valor\n",
    "    \n",
    "\n",
    "for item in x_tf:\n",
    "    # Criando o campo de seleção com os valores 'Sim' e 'Não'\n",
    "    valor = st.selectbox(f'{item}', ('Sim', 'Não'))\n",
    "    # preenchendo o dicionário x_tf com os valores inseridos:\n",
    "    if valor == 'Sim':\n",
    "        x_tf[item] = 1\n",
    "    else:\n",
    "        x_tf[item] = 0\n",
    "\n",
    "\n",
    "for item in x_listas:\n",
    "    # Criando campo de seleção com as opções disponíveis para cada característica\n",
    "    valor = st.selectbox(f'{item}', x_listas[item])\n",
    "    # Adicionando as características categóricas inseridas no dicionário vazio criado:\n",
    "    dicionario[f'{item}_{valor}'] = 1\n",
    "\n",
    "# Criar botão para prever o valor do imóvel\n",
    "botao = st.button('Prever Valor do Imóvel')\n",
    "\n",
    "# Adicionando a função de prever o valor do imóvel ao botão criado, com base nos valores inseridos\n",
    "if botao:\n",
    "    # Adicionando os valores numéricos e booleanos no dicionário criado\n",
    "    dicionario.update(x_numericos)\n",
    "    dicionario.update(x_tf)\n",
    "    # Transformando num dataframe\n",
    "    valores_x = pd.DataFrame(dicionario, index=[0])\n",
    "\n",
    "    # Lendo os arquivos de dados e extraindo o nome das colunas\n",
    "    dados = pd.read_csv('dados.csv')\n",
    "    colunas = list(dados.columns)[1:-1]\n",
    "\n",
    "    # Colocando os valores inseridos pelo usuário no modelo, realizando a previsão e imprimindo o resultado\n",
    "    valores_x = valores_x[colunas]\n",
    "    modelo = joblib.load('modelo.joblib')\n",
    "    preco = modelo.predict(valores_x)\n",
    "    st.write(preco)"
   ]
  }
 ],
 "metadata": {
  "kernelspec": {
   "display_name": "Python 3 (ipykernel)",
   "language": "python",
   "name": "python3"
  },
  "language_info": {
   "codemirror_mode": {
    "name": "ipython",
    "version": 3
   },
   "file_extension": ".py",
   "mimetype": "text/x-python",
   "name": "python",
   "nbconvert_exporter": "python",
   "pygments_lexer": "ipython3",
   "version": "3.12.7"
  }
 },
 "nbformat": 4,
 "nbformat_minor": 5
}
